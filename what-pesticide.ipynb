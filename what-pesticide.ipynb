{
 "cells": [
  {
   "cell_type": "markdown",
   "id": "grateful-camel",
   "metadata": {},
   "source": [
    "# What pesticide are you? Find out with data science!\n",
    "\n",
    "Author: [Ueli Reber](https://uelireber.ch)  \n",
    "Version: 2021-02-25"
   ]
  },
  {
   "cell_type": "markdown",
   "id": "moderate-portugal",
   "metadata": {},
   "source": [
    "You have probably asked yourself for a long time what kind of pesticide you would be if you were one. Well, today is your lucky day: you will find out by learning from data! 😃\n",
    "\n",
    "First you will compile some data about you, then get and prepare pesticide descriptions, do some text mining, and ultimately identify your pesticide. Let's get started!"
   ]
  },
  {
   "cell_type": "markdown",
   "id": "spoken-hollywood",
   "metadata": {},
   "source": [
    "## Your data\n",
    "\n",
    "Create your profile by answering the following (extremely scientific) questions. Type your answer in the code field (between the quotation marks) and then click the **► Run** button above."
   ]
  },
  {
   "cell_type": "markdown",
   "id": "interested-companion",
   "metadata": {},
   "source": [
    "1) What do you prefer: `\"fruits\"` or `\"vegetables\"`?"
   ]
  },
  {
   "cell_type": "code",
   "execution_count": 16,
   "id": "hollow-leeds",
   "metadata": {},
   "outputs": [],
   "source": [
    "a_1 <- \"TYPE-YOUR-ANSWER-HERE\""
   ]
  },
  {
   "cell_type": "markdown",
   "id": "laden-light",
   "metadata": {},
   "source": [
    "2) So, what is your favorite fruit/vegetable then? You can type in more than type (comma separated)."
   ]
  },
  {
   "cell_type": "code",
   "execution_count": 17,
   "id": "partial-polyester",
   "metadata": {},
   "outputs": [],
   "source": [
    "a_2 <- \"TYPE-YOUR-ANSWER-HERE\""
   ]
  },
  {
   "cell_type": "markdown",
   "id": "julian-wrestling",
   "metadata": {},
   "source": [
    "3) What menu would you choose for lunch at the canteen?\n",
    "\n",
    "* `\"Beef Stroganoff with chili peppers, onions, mushrooms & fried noodles\"`\n",
    "* `\"Pad Thai with beetroot pancakes, soybean sprouts, snow peas, carrots & sweet sour sauce\"`\n",
    "* `\"Wild salmon fillet in puff pastry, creamed savoy cabbage & parsley potatoes\"`"
   ]
  },
  {
   "cell_type": "code",
   "execution_count": 18,
   "id": "superior-latest",
   "metadata": {},
   "outputs": [],
   "source": [
    "a_3 <- \"TYPE-YOUR-ANSWER-HERE\""
   ]
  },
  {
   "cell_type": "markdown",
   "id": "unavailable-appraisal",
   "metadata": {},
   "source": [
    "4) What spread do you enjoy on your breakfast bread: `\"jam\"`, `\"honey\"`, `\"nutella\"`, just `\"butter\"`, or are you more a `\"cereal\"` type of person?"
   ]
  },
  {
   "cell_type": "code",
   "execution_count": 19,
   "id": "automatic-missile",
   "metadata": {},
   "outputs": [],
   "source": [
    "a_4 <- \"TYPE-YOUR-ANSWER-HERE\""
   ]
  },
  {
   "cell_type": "markdown",
   "id": "elect-catholic",
   "metadata": {},
   "source": [
    "5) Finally, clothing: What material is your sweater/T-shirt made of?\n",
    "\n",
    "* `\"Cotton\"`\n",
    "* `\"Wool\"`\n",
    "* `\"Some synthetic fabric\"`"
   ]
  },
  {
   "cell_type": "code",
   "execution_count": 20,
   "id": "unavailable-switch",
   "metadata": {},
   "outputs": [],
   "source": [
    "a_5 <- \"TYPE-YOUR-ANSWER-HERE\""
   ]
  },
  {
   "cell_type": "markdown",
   "id": "thrown-editing",
   "metadata": {},
   "source": [
    "Okay, enough about you, let's move on to the pesticide descriptions!"
   ]
  },
  {
   "cell_type": "markdown",
   "id": "indirect-repository",
   "metadata": {},
   "source": [
    "## Pesticide descriptions\n",
    "\n",
    "To determine your pesticide, we need data. In our case, this are the names and descriptions of different pesticide. Go ahead and load the data (along with packages required below)."
   ]
  },
  {
   "cell_type": "code",
   "execution_count": 22,
   "id": "imposed-redhead",
   "metadata": {},
   "outputs": [
    {
     "data": {
      "text/html": [
       "<table>\n",
       "<thead><tr><th scope=col>doc_id</th><th scope=col>name</th><th scope=col>type</th><th scope=col>text</th></tr></thead>\n",
       "<tbody>\n",
       "\t<tr><td>1                                                                                                                                                                                                                                                                                                                                                                                                                                       </td><td><span style=white-space:pre-wrap>Azoxystrobin     </span>                                                                                                                                                                                                                                                                                                                                                                               </td><td>Fungicide                                                                                                                                                                                                                                                                                                                                                                                                                               </td><td><span style=white-space:pre-wrap>An experimental compound used on cereals, vegetables, fruit crops, peanuts, turf, ornamentals, stone fruit, bananas, rice, apples, grapes,  &amp; potatoes. This chemical does not leach and is unlikely to contaminate water bodies. It is found to exhibit very low ecological risks, to aquatic life, birds, and mammals. Other names include Abound, Amistar, Bankit, Heritage, and Quadris.</span></td></tr>\n",
       "\t<tr><td>2                                                                                                                                                                                                                                                                                                                                                                                           </td><td>Boscalid                                                                                                                                                                                                                                                                                                                                                                                    </td><td>Fungicide                                                                                                                                                                                                                                                                                                                                                                                   </td><td>Fungicide used on specialty crops such as straberries, beans, stone fruit, tree nuts, root vegetables, carrots, grapes, Brassica vegetables, and sunflowers.                                                                                                                                                                                                                                </td></tr>\n",
       "\t<tr><td>3                                                                                                                                                                                                                                                                                                                                                                                                                                       </td><td>Carbendazim (MBC)                                                                                                                                                                                                                                                                                                                                                                                                                       </td><td>Fungicide                                                                                                                                                                                                                                                                                                                                                                                                                               </td><td><span style=white-space:pre-wrap>Found to be acutely toxic to honeybees, having an effect on long term survival of colonies. Foods with Carbendazim residues include: strawberries, green beans, apple sauce, blueberries, sweet bell peppers, apples, cherries, green onions, spinach, bananas, honey, lettuce, water, celery, cauliflower, celery &amp; broccoli.                                                              </span></td></tr>\n",
       "\t<tr><td>4                                                                                                                                                                                                                                                                                                                                                                                           </td><td>Chlorothalonil                                                                                                                                                                                                                                                                                                                                                                              </td><td>Fungicide                                                                                                                                                                                                                                                                                                                                                                                   </td><td>General use insecticide used on trees, small fruits, turf, ornamentals, and vegetables. Found to be non-toxic to honey bees.                                                                                                                                                                                                                                                                </td></tr>\n",
       "\t<tr><td>5                                                                                                                                                                                                                                                                                                                                                                                           </td><td>Cyprodinil                                                                                                                                                                                                                                                                                                                                                                                  </td><td>Fungicide                                                                                                                                                                                                                                                                                                                                                                                   </td><td>Used as a foliar fungicide on cereals, grapes, pome fruit, stone fruit, strawberries, vegetables, field crops and ornamentals; and as a seed dressing on barley.                                                                                                                                                                                                                            </td></tr>\n",
       "\t<tr><td>6                                                                                                                                                                                                                                                                                                                                                                                           </td><td>Dicloran                                                                                                                                                                                                                                                                                                                                                                                    </td><td>Fungicide                                                                                                                                                                                                                                                                                                                                                                                   </td><td>Widely used fungicide used on a variety of  ornamentals, fruit and vegetable crops such as pricots, snap beans, carrots, celery, cherries, cucumber, endive, fennel, garlic, grapes, lettuce, nectarines, onions, peaches, plums, potatoes, prunes, rhubarb, shallots, sweet potatoes and tomatoes.                                                                                         </td></tr>\n",
       "</tbody>\n",
       "</table>\n"
      ],
      "text/latex": [
       "\\begin{tabular}{r|llll}\n",
       " doc\\_id & name & type & text\\\\\n",
       "\\hline\n",
       "\t 1                                                                                                                                                                                                                                                                                                                                                                                              & Azoxystrobin                                                                                                                                                                                                                                                                                                                                                                                   & Fungicide                                                                                                                                                                                                                                                                                                                                                                                      & An experimental compound used on cereals, vegetables, fruit crops, peanuts, turf, ornamentals, stone fruit, bananas, rice, apples, grapes,  \\& potatoes. This chemical does not leach and is unlikely to contaminate water bodies. It is found to exhibit very low ecological risks, to aquatic life, birds, and mammals. Other names include Abound, Amistar, Bankit, Heritage, and Quadris.\\\\\n",
       "\t 2                                                                                                                                                                                                                                                                                                                                                                                            & Boscalid                                                                                                                                                                                                                                                                                                                                                                                     & Fungicide                                                                                                                                                                                                                                                                                                                                                                                    & Fungicide used on specialty crops such as straberries, beans, stone fruit, tree nuts, root vegetables, carrots, grapes, Brassica vegetables, and sunflowers.                                                                                                                                                                                                                                \\\\\n",
       "\t 3                                                                                                                                                                                                                                                                                                                                                                                              & Carbendazim (MBC)                                                                                                                                                                                                                                                                                                                                                                              & Fungicide                                                                                                                                                                                                                                                                                                                                                                                      & Found to be acutely toxic to honeybees, having an effect on long term survival of colonies. Foods with Carbendazim residues include: strawberries, green beans, apple sauce, blueberries, sweet bell peppers, apples, cherries, green onions, spinach, bananas, honey, lettuce, water, celery, cauliflower, celery \\& broccoli.                                                              \\\\\n",
       "\t 4                                                                                                                                                                                                                                                                                                                                                                                            & Chlorothalonil                                                                                                                                                                                                                                                                                                                                                                               & Fungicide                                                                                                                                                                                                                                                                                                                                                                                    & General use insecticide used on trees, small fruits, turf, ornamentals, and vegetables. Found to be non-toxic to honey bees.                                                                                                                                                                                                                                                                \\\\\n",
       "\t 5                                                                                                                                                                                                                                                                                                                                                                                            & Cyprodinil                                                                                                                                                                                                                                                                                                                                                                                   & Fungicide                                                                                                                                                                                                                                                                                                                                                                                    & Used as a foliar fungicide on cereals, grapes, pome fruit, stone fruit, strawberries, vegetables, field crops and ornamentals; and as a seed dressing on barley.                                                                                                                                                                                                                            \\\\\n",
       "\t 6                                                                                                                                                                                                                                                                                                                                                                                            & Dicloran                                                                                                                                                                                                                                                                                                                                                                                     & Fungicide                                                                                                                                                                                                                                                                                                                                                                                    & Widely used fungicide used on a variety of  ornamentals, fruit and vegetable crops such as pricots, snap beans, carrots, celery, cherries, cucumber, endive, fennel, garlic, grapes, lettuce, nectarines, onions, peaches, plums, potatoes, prunes, rhubarb, shallots, sweet potatoes and tomatoes.                                                                                         \\\\\n",
       "\\end{tabular}\n"
      ],
      "text/markdown": [
       "\n",
       "| doc_id | name | type | text |\n",
       "|---|---|---|---|\n",
       "| 1                                                                                                                                                                                                                                                                                                                                                                                            | Azoxystrobin                                                                                                                                                                                                                                                                                                                                                                                 | Fungicide                                                                                                                                                                                                                                                                                                                                                                                    | An experimental compound used on cereals, vegetables, fruit crops, peanuts, turf, ornamentals, stone fruit, bananas, rice, apples, grapes,  & potatoes. This chemical does not leach and is unlikely to contaminate water bodies. It is found to exhibit very low ecological risks, to aquatic life, birds, and mammals. Other names include Abound, Amistar, Bankit, Heritage, and Quadris. |\n",
       "| 2                                                                                                                                                                                                                                                                                                                                                                                            | Boscalid                                                                                                                                                                                                                                                                                                                                                                                     | Fungicide                                                                                                                                                                                                                                                                                                                                                                                    | Fungicide used on specialty crops such as straberries, beans, stone fruit, tree nuts, root vegetables, carrots, grapes, Brassica vegetables, and sunflowers.                                                                                                                                                                                                                                 |\n",
       "| 3                                                                                                                                                                                                                                                                                                                                                                                            | Carbendazim (MBC)                                                                                                                                                                                                                                                                                                                                                                            | Fungicide                                                                                                                                                                                                                                                                                                                                                                                    | Found to be acutely toxic to honeybees, having an effect on long term survival of colonies. Foods with Carbendazim residues include: strawberries, green beans, apple sauce, blueberries, sweet bell peppers, apples, cherries, green onions, spinach, bananas, honey, lettuce, water, celery, cauliflower, celery & broccoli.                                                               |\n",
       "| 4                                                                                                                                                                                                                                                                                                                                                                                            | Chlorothalonil                                                                                                                                                                                                                                                                                                                                                                               | Fungicide                                                                                                                                                                                                                                                                                                                                                                                    | General use insecticide used on trees, small fruits, turf, ornamentals, and vegetables. Found to be non-toxic to honey bees.                                                                                                                                                                                                                                                                 |\n",
       "| 5                                                                                                                                                                                                                                                                                                                                                                                            | Cyprodinil                                                                                                                                                                                                                                                                                                                                                                                   | Fungicide                                                                                                                                                                                                                                                                                                                                                                                    | Used as a foliar fungicide on cereals, grapes, pome fruit, stone fruit, strawberries, vegetables, field crops and ornamentals; and as a seed dressing on barley.                                                                                                                                                                                                                             |\n",
       "| 6                                                                                                                                                                                                                                                                                                                                                                                            | Dicloran                                                                                                                                                                                                                                                                                                                                                                                     | Fungicide                                                                                                                                                                                                                                                                                                                                                                                    | Widely used fungicide used on a variety of  ornamentals, fruit and vegetable crops such as pricots, snap beans, carrots, celery, cherries, cucumber, endive, fennel, garlic, grapes, lettuce, nectarines, onions, peaches, plums, potatoes, prunes, rhubarb, shallots, sweet potatoes and tomatoes.                                                                                          |\n",
       "\n"
      ],
      "text/plain": [
       "  doc_id name              type     \n",
       "1 1      Azoxystrobin      Fungicide\n",
       "2 2      Boscalid          Fungicide\n",
       "3 3      Carbendazim (MBC) Fungicide\n",
       "4 4      Chlorothalonil    Fungicide\n",
       "5 5      Cyprodinil        Fungicide\n",
       "6 6      Dicloran          Fungicide\n",
       "  text                                                                                                                                                                                                                                                                                                                                                                                        \n",
       "1 An experimental compound used on cereals, vegetables, fruit crops, peanuts, turf, ornamentals, stone fruit, bananas, rice, apples, grapes,  & potatoes. This chemical does not leach and is unlikely to contaminate water bodies. It is found to exhibit very low ecological risks, to aquatic life, birds, and mammals. Other names include Abound, Amistar, Bankit, Heritage, and Quadris.\n",
       "2 Fungicide used on specialty crops such as straberries, beans, stone fruit, tree nuts, root vegetables, carrots, grapes, Brassica vegetables, and sunflowers.                                                                                                                                                                                                                                \n",
       "3 Found to be acutely toxic to honeybees, having an effect on long term survival of colonies. Foods with Carbendazim residues include: strawberries, green beans, apple sauce, blueberries, sweet bell peppers, apples, cherries, green onions, spinach, bananas, honey, lettuce, water, celery, cauliflower, celery & broccoli.                                                              \n",
       "4 General use insecticide used on trees, small fruits, turf, ornamentals, and vegetables. Found to be non-toxic to honey bees.                                                                                                                                                                                                                                                                \n",
       "5 Used as a foliar fungicide on cereals, grapes, pome fruit, stone fruit, strawberries, vegetables, field crops and ornamentals; and as a seed dressing on barley.                                                                                                                                                                                                                            \n",
       "6 Widely used fungicide used on a variety of  ornamentals, fruit and vegetable crops such as pricots, snap beans, carrots, celery, cherries, cucumber, endive, fennel, garlic, grapes, lettuce, nectarines, onions, peaches, plums, potatoes, prunes, rhubarb, shallots, sweet potatoes and tomatoes.                                                                                         "
      ]
     },
     "metadata": {},
     "output_type": "display_data"
    }
   ],
   "source": [
    "# load required packages\n",
    "library(tidyverse, quietly = TRUE)\n",
    "library(quanteda, quietly = TRUE)\n",
    "\n",
    "# load pesticide descriptions\n",
    "pest_df <- read_csv(\"data/pesticides.csv\", \n",
    "                     col_types = cols()) \n",
    "\n",
    "# have a look\n",
    "head(pest_df)"
   ]
  },
  {
   "cell_type": "markdown",
   "id": "timely-parking",
   "metadata": {},
   "source": [
    "This looks alright! Let's move on then and find out which pesticide is yours."
   ]
  },
  {
   "cell_type": "markdown",
   "id": "placed-listening",
   "metadata": {},
   "source": [
    "## Model\n",
    "\n",
    "To identify your pesticide we use the [nearest neighbor search](https://en.wikipedia.org/wiki/K-nearest_neighbors_algorithm) (also k-nearest neighbor or KNN). This is a relatively simple method that is often used to find objects that are similar to each other. The idea is that given an object, nearest neighbor search identifies objects (in your data) that are similar to the input object. This is exactly what we need in order to find the pesticide closest to you!\n",
    "\n",
    "However, before we proceed to modeling, we have to bring your data and the descriptions of the pesticides into the correct form (preprocessing)."
   ]
  },
  {
   "cell_type": "code",
   "execution_count": 39,
   "id": "experimental-cornell",
   "metadata": {},
   "outputs": [
    {
     "data": {
      "text/plain": [
       "Document-feature matrix of: 62 documents, 687 features (96.5% sparse) and 2 docvars.\n",
       "    features\n",
       "docs experiment compound       use   cereal     veget     fruit      crop\n",
       "   1   1.792392 1.491362 0.1021956 1.190332 0.5882717 0.8243609 0.3610279\n",
       "   2   0        0        0.1021956 0        1.1765434 0.4121804 0.3610279\n",
       "   3   0        0        0         0        0         0         0        \n",
       "   4   0        0        0.2043912 0        0.5882717 0.4121804 0        \n",
       "   5   0        0        0.1021956 1.190332 0.5882717 0.8243609 0.3610279\n",
       "   6   0        0        0.2043912 0        0.5882717 0.4121804 0.3610279\n",
       "    features\n",
       "docs  peanut     turf  ornament\n",
       "   1 1.31527 1.093422 0.6163004\n",
       "   2 0       0        0        \n",
       "   3 0       0        0        \n",
       "   4 0       1.093422 0.6163004\n",
       "   5 0       0        0.6163004\n",
       "   6 0       0        0.6163004\n",
       "[ reached max_ndoc ... 56 more documents, reached max_nfeat ... 677 more features ]"
      ]
     },
     "metadata": {},
     "output_type": "display_data"
    }
   ],
   "source": [
    "# preprocessing of the data (including yours)\n",
    "pest_dfm <- pest_df %>%\n",
    "  add_row(doc_id = nrow(pest_df) + 1, name = NA, type = NA, \n",
    "          text = paste(a_1, a_2, a_3, a_4, a_5)) %>%\n",
    "  corpus() %>%\n",
    "  tokens(remove_punct = TRUE, remove_numbers = TRUE) %>%\n",
    "  tokens_tolower() %>%\n",
    "  tokens_remove(stopwords(language = \"en\")) %>%\n",
    "  tokens_wordstem(language = \"en\") %>%\n",
    "  dfm() %>%\n",
    "  dfm_tfidf()\n",
    "\n",
    "# get an idea of the data structure\n",
    "pest_dfm"
   ]
  },
  {
   "cell_type": "markdown",
   "id": "bizarre-picture",
   "metadata": {},
   "source": [
    "Okay, let's get serious now and finally identify your pesticide!"
   ]
  },
  {
   "cell_type": "code",
   "execution_count": 40,
   "id": "soviet-quantum",
   "metadata": {},
   "outputs": [],
   "source": [
    "# extract training set, i.e. the descriptions\n",
    "pest_train <- pest_dfm[-nrow(pest_dfm), ]\n",
    "# extract testing set, i.e. your data\n",
    "pest_test <- pest_dfm[nrow(pest_dfm), ]\n",
    "\n",
    "# extract predict information from training data, i.e. pesticide names \n",
    "pest_target <- pest_train$name\n",
    "\n",
    "# run knn function, i.e. predict your pesticide\n",
    "pest_pred <- class::knn(train = pest_train,\n",
    "                        test = pest_test,\n",
    "                        cl = pest_target, \n",
    "                        k = 1)"
   ]
  },
  {
   "cell_type": "markdown",
   "id": "naughty-artwork",
   "metadata": {},
   "source": [
    "Eureka, that's it! Now we just have to print it."
   ]
  },
  {
   "cell_type": "code",
   "execution_count": 42,
   "id": "wrapped-lighting",
   "metadata": {},
   "outputs": [
    {
     "data": {
      "text/markdown": [
       "📣 **Fenpropathrin (insecticide)**: Insecticide used in agriculture and on ornamentals. Used to control mites in fruits and vegetables. 😉"
      ]
     },
     "metadata": {},
     "output_type": "display_data"
    }
   ],
   "source": [
    "#  extract pesticide information\n",
    "pest_res <- pest_df[pest_df$name == as.character(pest_pred), ]\n",
    "\n",
    "# learn your pesticide\n",
    "IRdisplay::display_markdown(paste0(\"📣 **\", pest_res$name, \" (\", tolower(pest_res$type), \")**: \", pest_res$text, \" 😉\"))"
   ]
  }
 ],
 "metadata": {
  "kernelspec": {
   "display_name": "R",
   "language": "R",
   "name": "ir"
  },
  "language_info": {
   "codemirror_mode": "r",
   "file_extension": ".r",
   "mimetype": "text/x-r-source",
   "name": "R",
   "pygments_lexer": "r",
   "version": "3.6.1"
  }
 },
 "nbformat": 4,
 "nbformat_minor": 5
}
