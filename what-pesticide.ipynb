{
 "cells": [
  {
   "cell_type": "markdown",
   "id": "grateful-camel",
   "metadata": {},
   "source": [
    "_Prepared for the TRAPEGO kick-off meeting on 3 March 2021 by [Ueli Reber](https://uelireber.ch)_"
   ]
  },
  {
   "cell_type": "markdown",
   "id": "hundred-median",
   "metadata": {},
   "source": [
    "<img src=\"teaser.png\" alt=\"drawing\" width=\"600\"/>"
   ]
  },
  {
   "cell_type": "markdown",
   "id": "moderate-portugal",
   "metadata": {},
   "source": [
    "You have probably asked yourself countless times what kind of pesticide you would be if you were one. Well, today is your lucky day: you will find out by learning from data! 🤓\n",
    "\n",
    "First you will compile some data about you, then get and prepare pesticide descriptions, do some text mining wizardry, and finally learn your pesticide. Let's get started!"
   ]
  },
  {
   "cell_type": "markdown",
   "id": "spoken-hollywood",
   "metadata": {},
   "source": [
    "## Your data\n",
    "\n",
    "Create your profile by answering the following (extremely scientific) questions. Type your answer in the code field (between the quotation marks) and then click the **► Run** button above."
   ]
  },
  {
   "cell_type": "markdown",
   "id": "interested-companion",
   "metadata": {},
   "source": [
    "1) What do you prefer: `\"fruits\"` or `\"vegetables\"`?"
   ]
  },
  {
   "cell_type": "code",
   "execution_count": null,
   "id": "hollow-leeds",
   "metadata": {},
   "outputs": [],
   "source": [
    "a_1 <- \"TYPE-YOUR-ANSWER-HERE\""
   ]
  },
  {
   "cell_type": "markdown",
   "id": "laden-light",
   "metadata": {},
   "source": [
    "2) So, what is your favorite fruit/vegetable then? You can type in more than type (comma separated)."
   ]
  },
  {
   "cell_type": "code",
   "execution_count": null,
   "id": "partial-polyester",
   "metadata": {},
   "outputs": [],
   "source": [
    "a_2 <- \"TYPE-YOUR-ANSWER-HERE\""
   ]
  },
  {
   "cell_type": "markdown",
   "id": "julian-wrestling",
   "metadata": {},
   "source": [
    "3) What menu would you choose for lunch at the canteen?\n",
    "\n",
    "* `\"Beef Stroganoff with chili peppers, onions, mushrooms & fried noodles\"`\n",
    "* `\"Pad Thai with beetroot pancakes, soybean sprouts, snow peas, carrots & sweet sour sauce\"`\n",
    "* `\"Wild salmon fillet in puff pastry, creamed savoy cabbage & parsley potatoes\"`"
   ]
  },
  {
   "cell_type": "code",
   "execution_count": null,
   "id": "superior-latest",
   "metadata": {},
   "outputs": [],
   "source": [
    "a_3 <- \"TYPE-YOUR-ANSWER-HERE\""
   ]
  },
  {
   "cell_type": "markdown",
   "id": "unavailable-appraisal",
   "metadata": {},
   "source": [
    "4) What spread do you enjoy on your breakfast bread: `\"jam\"`, `\"honey\"`, `\"nutella\"`, just `\"butter\"`, or are you more a `\"cereal\"` type of person?"
   ]
  },
  {
   "cell_type": "code",
   "execution_count": null,
   "id": "automatic-missile",
   "metadata": {},
   "outputs": [],
   "source": [
    "a_4 <- \"TYPE-YOUR-ANSWER-HERE\""
   ]
  },
  {
   "cell_type": "markdown",
   "id": "elect-catholic",
   "metadata": {},
   "source": [
    "5) Finally, clothing: What material is your sweater/T-shirt made of?\n",
    "\n",
    "* `\"Cotton\"`\n",
    "* `\"Wool\"`\n",
    "* `\"Some synthetic fabric\"`"
   ]
  },
  {
   "cell_type": "code",
   "execution_count": null,
   "id": "unavailable-switch",
   "metadata": {},
   "outputs": [],
   "source": [
    "a_5 <- \"TYPE-YOUR-ANSWER-HERE\""
   ]
  },
  {
   "cell_type": "markdown",
   "id": "thrown-editing",
   "metadata": {},
   "source": [
    "Okay, enough about you, let's move on to the pesticide descriptions!"
   ]
  },
  {
   "cell_type": "markdown",
   "id": "indirect-repository",
   "metadata": {},
   "source": [
    "## Pesticide descriptions\n",
    "\n",
    "To determine your pesticide, we need data. In our case, this are the names and descriptions of different pesticide. Go ahead and load the data (along with packages required below)."
   ]
  },
  {
   "cell_type": "code",
   "execution_count": null,
   "id": "imposed-redhead",
   "metadata": {},
   "outputs": [],
   "source": [
    "# load required packages\n",
    "library(tidyverse)\n",
    "library(quanteda)\n",
    "\n",
    "# load pesticide descriptions\n",
    "pest_df <- read_csv(\"data/pesticides.csv\", \n",
    "                     col_types = cols()) \n",
    "\n",
    "# have a look\n",
    "head(pest_df)"
   ]
  },
  {
   "cell_type": "markdown",
   "id": "timely-parking",
   "metadata": {},
   "source": [
    "This looks alright! Let's move on then and find out which pesticide is yours."
   ]
  },
  {
   "cell_type": "markdown",
   "id": "placed-listening",
   "metadata": {},
   "source": [
    "## Model\n",
    "\n",
    "To identify your pesticide we use the [nearest neighbor search](https://en.wikipedia.org/wiki/K-nearest_neighbors_algorithm) (also k-nearest neighbor or KNN). This is a relatively simple method that is often used to find objects that are similar to each other. The idea is that given an object, nearest neighbor search identifies objects (in your data) that are similar to the input object. This is exactly what we need in order to find the pesticide closest to you!\n",
    "\n",
    "However, before we proceed to modeling, we have to bring your data and the descriptions of the pesticides into the correct form (preprocessing)."
   ]
  },
  {
   "cell_type": "code",
   "execution_count": null,
   "id": "experimental-cornell",
   "metadata": {},
   "outputs": [],
   "source": [
    "# preprocessing of the data (including yours)\n",
    "pest_dfm <- pest_df %>%\n",
    "  add_row(doc_id = nrow(pest_df) + 1, name = NA, type = NA, \n",
    "          text = paste(a_1, a_2, a_3, a_4, a_5)) %>%\n",
    "  corpus() %>%\n",
    "  tokens(remove_punct = TRUE, remove_numbers = TRUE) %>%\n",
    "  tokens_tolower() %>%\n",
    "  tokens_remove(stopwords(language = \"en\")) %>%\n",
    "  tokens_wordstem(language = \"en\") %>%\n",
    "  dfm() %>%\n",
    "  dfm_tfidf()\n",
    "\n",
    "# get an idea of the data structure\n",
    "pest_dfm"
   ]
  },
  {
   "cell_type": "markdown",
   "id": "bizarre-picture",
   "metadata": {},
   "source": [
    "Okay, let's get serious now and finally identify your pesticide!"
   ]
  },
  {
   "cell_type": "code",
   "execution_count": null,
   "id": "soviet-quantum",
   "metadata": {},
   "outputs": [],
   "source": [
    "# extract training set, i.e. the descriptions\n",
    "pest_train <- pest_dfm[-nrow(pest_dfm), ]\n",
    "# extract testing set, i.e. your data\n",
    "pest_test <- pest_dfm[nrow(pest_dfm), ]\n",
    "\n",
    "# extract predict information from training data, i.e. pesticide names \n",
    "pest_target <- pest_train$name\n",
    "\n",
    "# run knn function, i.e. predict your pesticide\n",
    "pest_pred <- class::knn(train = pest_train,\n",
    "                        test = pest_test,\n",
    "                        cl = pest_target, \n",
    "                        k = 1)"
   ]
  },
  {
   "cell_type": "markdown",
   "id": "naughty-artwork",
   "metadata": {},
   "source": [
    "Eureka, that's it! Now we just have to print it."
   ]
  },
  {
   "cell_type": "code",
   "execution_count": null,
   "id": "wrapped-lighting",
   "metadata": {},
   "outputs": [],
   "source": [
    "#  extract pesticide information\n",
    "pest_res <- pest_df[pest_df$name == as.character(pest_pred), ]\n",
    "\n",
    "# learn your pesticide\n",
    "IRdisplay::display_markdown(paste0(\"📣 **\", pest_res$name, \" (\", tolower(pest_res$type), \")**: \", pest_res$text))"
   ]
  },
  {
   "cell_type": "markdown",
   "id": "turned-atlas",
   "metadata": {},
   "source": [
    "Brilliant, you have found your pesticide using data science! Congratulations! 👏\n",
    "\n",
    "![](https://media.giphy.com/media/xUPGcuomRFMUcsB9nO/giphy-downsized.gif)\n",
    "\n",
    "<sub>**Disclaimer:** This exersice does not contain any science. 😉</sub>"
   ]
  }
 ],
 "metadata": {
  "kernelspec": {
   "display_name": "R",
   "language": "R",
   "name": "ir"
  },
  "language_info": {
   "codemirror_mode": "r",
   "file_extension": ".r",
   "mimetype": "text/x-r-source",
   "name": "R",
   "pygments_lexer": "r",
   "version": "3.6.1"
  }
 },
 "nbformat": 4,
 "nbformat_minor": 5
}
